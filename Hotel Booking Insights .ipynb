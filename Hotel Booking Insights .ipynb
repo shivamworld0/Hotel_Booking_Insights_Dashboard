{
 "cells": [
  {
   "cell_type": "markdown",
   "id": "8d926702-2c3b-4139-a587-4e37d91445d8",
   "metadata": {},
   "source": [
    "# import library"
   ]
  },
  {
   "cell_type": "code",
   "execution_count": 4,
   "id": "c96caa61-513b-44d3-a6a0-3cd48b6cc594",
   "metadata": {},
   "outputs": [],
   "source": [
    "import pandas as pd"
   ]
  },
  {
   "cell_type": "markdown",
   "id": "a502c8b2-fb8f-4732-b711-01e719a82208",
   "metadata": {},
   "source": [
    "## Load dimension tables"
   ]
  },
  {
   "cell_type": "code",
   "execution_count": 8,
   "id": "0b4ff4c3-9dfe-44eb-8bee-bcd1084a252e",
   "metadata": {},
   "outputs": [],
   "source": [
    "df_date = pd.read_csv(\"dim_date.csv\")\n",
    "df_hotels = pd.read_csv(\"dim_hotels.csv\")\n",
    "df_rooms = pd.read_csv(\"dim_rooms.csv\")"
   ]
  },
  {
   "cell_type": "markdown",
   "id": "232621fb-1b25-4700-82e8-ca63c11cd3f0",
   "metadata": {},
   "source": [
    "### Load fact tables"
   ]
  },
  {
   "cell_type": "code",
   "execution_count": 10,
   "id": "7a8c3392-6e82-4bfd-9f2b-67a007482e16",
   "metadata": {},
   "outputs": [],
   "source": [
    "df_fact_bookings = pd.read_csv(\"fact_bookings.csv\")\n",
    "df_agg_bookings = pd.read_csv(\"fact_aggregated_bookings.csv\")"
   ]
  },
  {
   "cell_type": "markdown",
   "id": "d50da43b-4e29-47d9-90ac-20b8d66a0943",
   "metadata": {},
   "source": [
    "### Preview data"
   ]
  },
  {
   "cell_type": "code",
   "execution_count": 11,
   "id": "96268fed-d0ef-4a20-a3d8-4fc785fd9e89",
   "metadata": {},
   "outputs": [
    {
     "name": "stdout",
     "output_type": "stream",
     "text": [
      "Date Table\n",
      "         date  mmm yy  week no  day  type day_name\n",
      "0  01-05-2022  May-22       19          5  weekday\n",
      "1  02-05-2022  May-22       19          5  weekday\n",
      "2  03-05-2022  May-22       19          5  weekday\n",
      "3  04-05-2022  May-22       19          5  weekday\n",
      "4  05-05-2022  May-22       19          5  weekday\n"
     ]
    }
   ],
   "source": [
    "print(\"Date Table\")\n",
    "print(df_date.head())"
   ]
  },
  {
   "cell_type": "code",
   "execution_count": 12,
   "id": "928183bf-d7bd-4410-b899-10d883eb0f59",
   "metadata": {},
   "outputs": [
    {
     "name": "stdout",
     "output_type": "stream",
     "text": [
      "\n",
      "Hotels Table\n",
      "   property_id  property_name  category    city\n",
      "0        16558   Atliq Grands    Luxury   Delhi\n",
      "1        16559  Atliq Exotica    Luxury  Mumbai\n",
      "2        16560     Atliq City  Business   Delhi\n",
      "3        16561      Atliq Blu    Luxury   Delhi\n",
      "4        16562      Atliq Bay    Luxury   Delhi\n"
     ]
    }
   ],
   "source": [
    "print(\"\\nHotels Table\")\n",
    "print(df_hotels.head())\n"
   ]
  },
  {
   "cell_type": "code",
   "execution_count": 13,
   "id": "32fb99db-8d0b-4ae8-81ab-362d2a2b76f8",
   "metadata": {},
   "outputs": [
    {
     "name": "stdout",
     "output_type": "stream",
     "text": [
      "\n",
      "Rooms Table\n",
      "  room_id    room_class\n",
      "0     RT1      Standard\n",
      "1     RT2         Elite\n",
      "2     RT3       Premium\n",
      "3     RT4  Presidential\n"
     ]
    }
   ],
   "source": [
    "print(\"\\nRooms Table\")\n",
    "print(df_rooms.head())"
   ]
  },
  {
   "cell_type": "code",
   "execution_count": 14,
   "id": "a62f9c95-38aa-4cae-8f18-8218de19bf5d",
   "metadata": {},
   "outputs": [
    {
     "name": "stdout",
     "output_type": "stream",
     "text": [
      "\n",
      "Fact Bookings Table\n",
      "         booking_id  property_id booking_date check_in_date checkout_date  \\\n",
      "0  May012216558RT11        16558   2022-04-27    2022-05-01    2022-05-02   \n",
      "1  May012216558RT12        16558   2022-04-30    2022-05-01    2022-05-02   \n",
      "2  May012216558RT13        16558   2022-04-28    2022-05-01    2022-05-04   \n",
      "3  May012216558RT14        16558   2022-04-28    2022-05-01    2022-05-02   \n",
      "4  May012216558RT15        16558   2022-04-27    2022-05-01    2022-05-02   \n",
      "\n",
      "   no_guests room_category booking_platform  ratings_given booking_status  \\\n",
      "0          3           RT1    direct online            1.0    Checked Out   \n",
      "1          2           RT1           others            NaN      Cancelled   \n",
      "2          2           RT1          logtrip            5.0    Checked Out   \n",
      "3          2           RT1           others            NaN      Cancelled   \n",
      "4          4           RT1    direct online            5.0    Checked Out   \n",
      "\n",
      "   revenue_generated  revenue_realized  \n",
      "0              10010             10010  \n",
      "1               9100              3640  \n",
      "2               9100              9100  \n",
      "3               9100              3640  \n",
      "4              10920             10920  \n"
     ]
    }
   ],
   "source": [
    "print(\"\\nFact Bookings Table\")\n",
    "print(df_fact_bookings.head())"
   ]
  },
  {
   "cell_type": "code",
   "execution_count": 15,
   "id": "ea60ba18-4303-4478-958a-5115aee61ed7",
   "metadata": {},
   "outputs": [
    {
     "name": "stdout",
     "output_type": "stream",
     "text": [
      "\n",
      "Aggregated Bookings Table\n",
      "   property_id check_in_date room_category  successful_bookings  capacity\n",
      "0        16559     01-May-22           RT1                   25        30\n",
      "1        19562     01-May-22           RT1                   28        30\n",
      "2        19563     01-May-22           RT1                   23        30\n",
      "3        17558     01-May-22           RT1                   13        19\n",
      "4        16558     01-May-22           RT1                   18        19\n"
     ]
    }
   ],
   "source": [
    "print(\"\\nAggregated Bookings Table\")\n",
    "print(df_agg_bookings.head())"
   ]
  },
  {
   "cell_type": "markdown",
   "id": "5448e27e-104f-495b-a4b5-d20a55646222",
   "metadata": {},
   "source": [
    "### Check nulls and datatypes"
   ]
  },
  {
   "cell_type": "code",
   "execution_count": 16,
   "id": "6797bc19-2405-4b06-bf8a-de6f63704bcd",
   "metadata": {},
   "outputs": [
    {
     "name": "stdout",
     "output_type": "stream",
     "text": [
      "\n",
      "dim_date info:\n",
      "<class 'pandas.core.frame.DataFrame'>\n",
      "RangeIndex: 92 entries, 0 to 91\n",
      "Data columns (total 5 columns):\n",
      " #   Column     Non-Null Count  Dtype \n",
      "---  ------     --------------  ----- \n",
      " 0   date       92 non-null     object\n",
      " 1   mmm yy     92 non-null     object\n",
      " 2   week no    92 non-null     int64 \n",
      " 3   day  type  92 non-null     int64 \n",
      " 4   day_name   92 non-null     object\n",
      "dtypes: int64(2), object(3)\n",
      "memory usage: 3.7+ KB\n",
      "None\n",
      "Missing values:\n",
      " date         0\n",
      "mmm yy       0\n",
      "week no      0\n",
      "day  type    0\n",
      "day_name     0\n",
      "dtype: int64\n",
      "\n",
      "dim_hotels info:\n",
      "<class 'pandas.core.frame.DataFrame'>\n",
      "RangeIndex: 25 entries, 0 to 24\n",
      "Data columns (total 4 columns):\n",
      " #   Column         Non-Null Count  Dtype \n",
      "---  ------         --------------  ----- \n",
      " 0   property_id    25 non-null     int64 \n",
      " 1   property_name  25 non-null     object\n",
      " 2   category       25 non-null     object\n",
      " 3   city           25 non-null     object\n",
      "dtypes: int64(1), object(3)\n",
      "memory usage: 932.0+ bytes\n",
      "None\n",
      "Missing values:\n",
      " property_id      0\n",
      "property_name    0\n",
      "category         0\n",
      "city             0\n",
      "dtype: int64\n",
      "\n",
      "dim_rooms info:\n",
      "<class 'pandas.core.frame.DataFrame'>\n",
      "RangeIndex: 4 entries, 0 to 3\n",
      "Data columns (total 2 columns):\n",
      " #   Column      Non-Null Count  Dtype \n",
      "---  ------      --------------  ----- \n",
      " 0   room_id     4 non-null      object\n",
      " 1   room_class  4 non-null      object\n",
      "dtypes: object(2)\n",
      "memory usage: 196.0+ bytes\n",
      "None\n",
      "Missing values:\n",
      " room_id       0\n",
      "room_class    0\n",
      "dtype: int64\n",
      "\n",
      "fact_bookings info:\n",
      "<class 'pandas.core.frame.DataFrame'>\n",
      "RangeIndex: 134590 entries, 0 to 134589\n",
      "Data columns (total 12 columns):\n",
      " #   Column             Non-Null Count   Dtype  \n",
      "---  ------             --------------   -----  \n",
      " 0   booking_id         134590 non-null  object \n",
      " 1   property_id        134590 non-null  int64  \n",
      " 2   booking_date       134590 non-null  object \n",
      " 3   check_in_date      134590 non-null  object \n",
      " 4   checkout_date      134590 non-null  object \n",
      " 5   no_guests          134590 non-null  int64  \n",
      " 6   room_category      134590 non-null  object \n",
      " 7   booking_platform   134590 non-null  object \n",
      " 8   ratings_given      56683 non-null   float64\n",
      " 9   booking_status     134590 non-null  object \n",
      " 10  revenue_generated  134590 non-null  int64  \n",
      " 11  revenue_realized   134590 non-null  int64  \n",
      "dtypes: float64(1), int64(4), object(7)\n",
      "memory usage: 12.3+ MB\n",
      "None\n",
      "Missing values:\n",
      " booking_id               0\n",
      "property_id              0\n",
      "booking_date             0\n",
      "check_in_date            0\n",
      "checkout_date            0\n",
      "no_guests                0\n",
      "room_category            0\n",
      "booking_platform         0\n",
      "ratings_given        77907\n",
      "booking_status           0\n",
      "revenue_generated        0\n",
      "revenue_realized         0\n",
      "dtype: int64\n",
      "\n",
      "fact_aggregated_bookings info:\n",
      "<class 'pandas.core.frame.DataFrame'>\n",
      "RangeIndex: 9200 entries, 0 to 9199\n",
      "Data columns (total 5 columns):\n",
      " #   Column               Non-Null Count  Dtype \n",
      "---  ------               --------------  ----- \n",
      " 0   property_id          9200 non-null   int64 \n",
      " 1   check_in_date        9200 non-null   object\n",
      " 2   room_category        9200 non-null   object\n",
      " 3   successful_bookings  9200 non-null   int64 \n",
      " 4   capacity             9200 non-null   int64 \n",
      "dtypes: int64(3), object(2)\n",
      "memory usage: 359.5+ KB\n",
      "None\n",
      "Missing values:\n",
      " property_id            0\n",
      "check_in_date          0\n",
      "room_category          0\n",
      "successful_bookings    0\n",
      "capacity               0\n",
      "dtype: int64\n"
     ]
    }
   ],
   "source": [
    "for name, df in {\n",
    "    'dim_date': df_date,\n",
    "    'dim_hotels': df_hotels,\n",
    "    'dim_rooms': df_rooms,\n",
    "    'fact_bookings': df_fact_bookings,\n",
    "    'fact_aggregated_bookings': df_agg_bookings\n",
    "}.items():\n",
    "    print(f\"\\n{name} info:\")\n",
    "    print(df.info())\n",
    "    print(\"Missing values:\\n\", df.isnull().sum())"
   ]
  },
  {
   "cell_type": "markdown",
   "id": "86a5907b-70a7-480d-90fc-888679ceb20b",
   "metadata": {},
   "source": [
    "### Clean column names "
   ]
  },
  {
   "cell_type": "code",
   "execution_count": 18,
   "id": "df9b740b-55e2-458d-9ff8-d859222586b5",
   "metadata": {},
   "outputs": [],
   "source": [
    "def clean_column_names(df):\n",
    "    df.columns = df.columns.str.strip().str.lower().str.replace(\" \", \"_\")\n",
    "    return df\n",
    "\n",
    "df_date = clean_column_names(df_date)\n",
    "df_hotels = clean_column_names(df_hotels)\n",
    "df_rooms = clean_column_names(df_rooms)\n",
    "df_fact_bookings = clean_column_names(df_fact_bookings)\n",
    "df_agg_bookings = clean_column_names(df_agg_bookings)"
   ]
  },
  {
   "cell_type": "markdown",
   "id": "2d37be78-4d1f-4bfb-ac68-68c13e195aa5",
   "metadata": {},
   "source": [
    "#### For 'ratings_given' in fact_bookings, let's fill missing with median (or you can choose mean or 0)"
   ]
  },
  {
   "cell_type": "code",
   "execution_count": 24,
   "id": "2b5eaf41-5543-4e41-b4a4-7cc9dee2a44a",
   "metadata": {},
   "outputs": [],
   "source": [
    "df_fact_bookings['ratings_given'] = df_fact_bookings['ratings_given'].fillna(df_fact_bookings['ratings_given'].median())\n"
   ]
  },
  {
   "cell_type": "code",
   "execution_count": 26,
   "id": "7756036f-0611-4f6a-b47c-026d3181c703",
   "metadata": {},
   "outputs": [
    {
     "name": "stdout",
     "output_type": "stream",
     "text": [
      "\n",
      "dim_date info:\n",
      "<class 'pandas.core.frame.DataFrame'>\n",
      "RangeIndex: 92 entries, 0 to 91\n",
      "Data columns (total 5 columns):\n",
      " #   Column     Non-Null Count  Dtype \n",
      "---  ------     --------------  ----- \n",
      " 0   date       92 non-null     object\n",
      " 1   mmm_yy     92 non-null     object\n",
      " 2   week_no    92 non-null     int64 \n",
      " 3   day__type  92 non-null     int64 \n",
      " 4   day_name   92 non-null     object\n",
      "dtypes: int64(2), object(3)\n",
      "memory usage: 3.7+ KB\n",
      "None\n",
      "Missing values:\n",
      " date         0\n",
      "mmm_yy       0\n",
      "week_no      0\n",
      "day__type    0\n",
      "day_name     0\n",
      "dtype: int64\n",
      "\n",
      "dim_hotels info:\n",
      "<class 'pandas.core.frame.DataFrame'>\n",
      "RangeIndex: 25 entries, 0 to 24\n",
      "Data columns (total 4 columns):\n",
      " #   Column         Non-Null Count  Dtype \n",
      "---  ------         --------------  ----- \n",
      " 0   property_id    25 non-null     int64 \n",
      " 1   property_name  25 non-null     object\n",
      " 2   category       25 non-null     object\n",
      " 3   city           25 non-null     object\n",
      "dtypes: int64(1), object(3)\n",
      "memory usage: 932.0+ bytes\n",
      "None\n",
      "Missing values:\n",
      " property_id      0\n",
      "property_name    0\n",
      "category         0\n",
      "city             0\n",
      "dtype: int64\n",
      "\n",
      "dim_rooms info:\n",
      "<class 'pandas.core.frame.DataFrame'>\n",
      "RangeIndex: 4 entries, 0 to 3\n",
      "Data columns (total 2 columns):\n",
      " #   Column      Non-Null Count  Dtype \n",
      "---  ------      --------------  ----- \n",
      " 0   room_id     4 non-null      object\n",
      " 1   room_class  4 non-null      object\n",
      "dtypes: object(2)\n",
      "memory usage: 196.0+ bytes\n",
      "None\n",
      "Missing values:\n",
      " room_id       0\n",
      "room_class    0\n",
      "dtype: int64\n",
      "\n",
      "fact_bookings info:\n",
      "<class 'pandas.core.frame.DataFrame'>\n",
      "RangeIndex: 134590 entries, 0 to 134589\n",
      "Data columns (total 12 columns):\n",
      " #   Column             Non-Null Count   Dtype  \n",
      "---  ------             --------------   -----  \n",
      " 0   booking_id         134590 non-null  object \n",
      " 1   property_id        134590 non-null  int64  \n",
      " 2   booking_date       134590 non-null  object \n",
      " 3   check_in_date      134590 non-null  object \n",
      " 4   checkout_date      134590 non-null  object \n",
      " 5   no_guests          134590 non-null  int64  \n",
      " 6   room_category      134590 non-null  object \n",
      " 7   booking_platform   134590 non-null  object \n",
      " 8   ratings_given      134590 non-null  float64\n",
      " 9   booking_status     134590 non-null  object \n",
      " 10  revenue_generated  134590 non-null  int64  \n",
      " 11  revenue_realized   134590 non-null  int64  \n",
      "dtypes: float64(1), int64(4), object(7)\n",
      "memory usage: 12.3+ MB\n",
      "None\n",
      "Missing values:\n",
      " booking_id           0\n",
      "property_id          0\n",
      "booking_date         0\n",
      "check_in_date        0\n",
      "checkout_date        0\n",
      "no_guests            0\n",
      "room_category        0\n",
      "booking_platform     0\n",
      "ratings_given        0\n",
      "booking_status       0\n",
      "revenue_generated    0\n",
      "revenue_realized     0\n",
      "dtype: int64\n",
      "\n",
      "fact_aggregated_bookings info:\n",
      "<class 'pandas.core.frame.DataFrame'>\n",
      "RangeIndex: 9200 entries, 0 to 9199\n",
      "Data columns (total 5 columns):\n",
      " #   Column               Non-Null Count  Dtype \n",
      "---  ------               --------------  ----- \n",
      " 0   property_id          9200 non-null   int64 \n",
      " 1   check_in_date        9200 non-null   object\n",
      " 2   room_category        9200 non-null   object\n",
      " 3   successful_bookings  9200 non-null   int64 \n",
      " 4   capacity             9200 non-null   int64 \n",
      "dtypes: int64(3), object(2)\n",
      "memory usage: 359.5+ KB\n",
      "None\n",
      "Missing values:\n",
      " property_id            0\n",
      "check_in_date          0\n",
      "room_category          0\n",
      "successful_bookings    0\n",
      "capacity               0\n",
      "dtype: int64\n"
     ]
    }
   ],
   "source": [
    "for name, df in {\n",
    "    'dim_date': df_date,\n",
    "    'dim_hotels': df_hotels,\n",
    "    'dim_rooms': df_rooms,\n",
    "    'fact_bookings': df_fact_bookings,\n",
    "    'fact_aggregated_bookings': df_agg_bookings\n",
    "}.items():\n",
    "    print(f\"\\n{name} info:\")\n",
    "    print(df.info())\n",
    "    print(\"Missing values:\\n\", df.isnull().sum())"
   ]
  },
  {
   "cell_type": "markdown",
   "id": "7d68d242-1c3b-4b8f-9dba-a025d510ab19",
   "metadata": {},
   "source": [
    "### Convert date columns in fact_bookings"
   ]
  },
  {
   "cell_type": "code",
   "execution_count": 27,
   "id": "9a78221f-02d3-4cde-b252-6fe466b6f51a",
   "metadata": {},
   "outputs": [],
   "source": [
    "df_fact_bookings['booking_date'] = pd.to_datetime(df_fact_bookings['booking_date'])\n",
    "df_fact_bookings['check_in_date'] = pd.to_datetime(df_fact_bookings['check_in_date'])\n",
    "df_fact_bookings['checkout_date'] = pd.to_datetime(df_fact_bookings['checkout_date'])"
   ]
  },
  {
   "cell_type": "markdown",
   "id": "f977cebe-ac6d-470e-a2f7-42d8e69f1938",
   "metadata": {},
   "source": [
    "### Convert check_in_date in aggregated bookings"
   ]
  },
  {
   "cell_type": "code",
   "execution_count": 28,
   "id": "efaeb383-9623-4815-a1db-460c94943932",
   "metadata": {},
   "outputs": [
    {
     "name": "stderr",
     "output_type": "stream",
     "text": [
      "C:\\Users\\SHIVAM KUMAR\\AppData\\Local\\Temp\\ipykernel_14828\\1877798596.py:1: UserWarning: Could not infer format, so each element will be parsed individually, falling back to `dateutil`. To ensure parsing is consistent and as-expected, please specify a format.\n",
      "  df_agg_bookings['check_in_date'] = pd.to_datetime(df_agg_bookings['check_in_date'])\n"
     ]
    }
   ],
   "source": [
    "df_agg_bookings['check_in_date'] = pd.to_datetime(df_agg_bookings['check_in_date'])"
   ]
  },
  {
   "cell_type": "code",
   "execution_count": 30,
   "id": "f29973c7-e4da-48a9-af72-40ceca584881",
   "metadata": {},
   "outputs": [
    {
     "name": "stdout",
     "output_type": "stream",
     "text": [
      "0   2022-05-01\n",
      "1   2022-05-01\n",
      "2   2022-05-01\n",
      "3   2022-05-01\n",
      "4   2022-05-01\n",
      "Name: check_in_date, dtype: datetime64[ns]\n"
     ]
    }
   ],
   "source": [
    "print(df_agg_bookings['check_in_date'].head(5))\n"
   ]
  },
  {
   "cell_type": "code",
   "execution_count": 32,
   "id": "e05dd94e-4002-4caa-a4f8-46a51df9d04c",
   "metadata": {},
   "outputs": [],
   "source": [
    "df_agg_bookings['check_in_date'] = pd.to_datetime(df_agg_bookings['check_in_date'], format=\"%Y-%m-%d\")\n"
   ]
  },
  {
   "cell_type": "markdown",
   "id": "97c67506-b054-4b39-83ef-9628e537ef92",
   "metadata": {},
   "source": [
    "### Convert date in dim_date\n"
   ]
  },
  {
   "cell_type": "code",
   "execution_count": 35,
   "id": "d75111bb-b75f-4007-bc89-d288dcbd5198",
   "metadata": {},
   "outputs": [],
   "source": [
    "df_date['date'] = pd.to_datetime(df_date['date'], format=\"%d-%m-%Y\")\n"
   ]
  },
  {
   "cell_type": "markdown",
   "id": "5527c2cd-ac8b-4c09-9a53-5bfc837c2325",
   "metadata": {},
   "source": [
    "## Merge Dimension Tables"
   ]
  },
  {
   "cell_type": "markdown",
   "id": "ba978c6d-b014-4d6a-abc8-22be6ef56333",
   "metadata": {},
   "source": [
    "#### Merge with hotel details"
   ]
  },
  {
   "cell_type": "code",
   "execution_count": 37,
   "id": "af2f1f79-9880-4462-aeb2-92bcf86f0713",
   "metadata": {},
   "outputs": [],
   "source": [
    "df_merged = df_fact_bookings.merge(df_hotels, on='property_id', how='left')"
   ]
  },
  {
   "cell_type": "markdown",
   "id": "6bdfc7f4-f4b7-48ab-b1b9-fed9307a8418",
   "metadata": {},
   "source": [
    "#### Merge room details using 'room_category' from fact and 'room_class' from dim_rooms"
   ]
  },
  {
   "cell_type": "code",
   "execution_count": 39,
   "id": "12dacb05-56b5-466e-8f5c-f7fc134c9c74",
   "metadata": {},
   "outputs": [],
   "source": [
    "df_merged = df_merged.merge(df_rooms, left_on='room_category', right_on='room_class', how='left')"
   ]
  },
  {
   "cell_type": "markdown",
   "id": "c16a5212-1f49-42cc-8015-babb0a4cfb26",
   "metadata": {},
   "source": [
    "## Feature Engineering"
   ]
  },
  {
   "cell_type": "markdown",
   "id": "5a352005-a5dd-4bf3-aa9a-7ddf03c8ef7c",
   "metadata": {},
   "source": [
    "###  Stay duration (number of nights)"
   ]
  },
  {
   "cell_type": "code",
   "execution_count": 41,
   "id": "ea4e32b6-4918-4d98-8357-57c90e39e606",
   "metadata": {},
   "outputs": [],
   "source": [
    "df_merged['nights_stayed'] = (df_merged['checkout_date'] - df_merged['check_in_date']).dt.days"
   ]
  },
  {
   "cell_type": "markdown",
   "id": "5ad5eb06-f99d-45c9-bdae-c0e840e7f184",
   "metadata": {},
   "source": [
    "### Booking month & year for time analysis"
   ]
  },
  {
   "cell_type": "code",
   "execution_count": 43,
   "id": "55aa3590-7ef3-40bf-ab90-43a1d3885e47",
   "metadata": {},
   "outputs": [],
   "source": [
    "df_merged['booking_month'] = df_merged['booking_date'].dt.to_period('M')\n",
    "df_merged['check_in_month'] = df_merged['check_in_date'].dt.to_period('M')"
   ]
  },
  {
   "cell_type": "markdown",
   "id": "0973b25c-7297-4847-8cf7-c9c91c167013",
   "metadata": {},
   "source": [
    "### Revenue per guest"
   ]
  },
  {
   "cell_type": "code",
   "execution_count": 44,
   "id": "47a8e199-02f0-475b-bf6f-ccc77801b470",
   "metadata": {},
   "outputs": [],
   "source": [
    "df_merged['revenue_per_guest'] = df_merged['revenue_realized'] / df_merged['no_guests']"
   ]
  },
  {
   "cell_type": "markdown",
   "id": "2ca93799-6109-4c9e-b3ee-b2e2e41aebc5",
   "metadata": {},
   "source": [
    "## Export Cleaned Dataset"
   ]
  },
  {
   "cell_type": "markdown",
   "id": "6c2fe992-7d29-453a-b8bd-712998528c6d",
   "metadata": {},
   "source": [
    "### Export cleaned merged file"
   ]
  },
  {
   "cell_type": "code",
   "execution_count": 45,
   "id": "43f2f1bf-79f7-48e5-8098-ae04b5da5ccf",
   "metadata": {},
   "outputs": [],
   "source": [
    "df_merged.to_csv(\"cleaned_hotel_bookings.csv\", index=False)"
   ]
  },
  {
   "cell_type": "markdown",
   "id": "7c27ce33-2ee6-4766-a359-ff6d86b0d649",
   "metadata": {},
   "source": [
    "### Optional: export aggregated table too"
   ]
  },
  {
   "cell_type": "code",
   "execution_count": 46,
   "id": "dd443e33-ef97-4364-9c9c-3a652ce8f12a",
   "metadata": {},
   "outputs": [],
   "source": [
    "df_agg_bookings.to_csv(\"cleaned_aggregated_bookings.csv\", index=False)"
   ]
  },
  {
   "cell_type": "code",
   "execution_count": 47,
   "id": "ec99e077-4edf-41dc-824b-62719107b87f",
   "metadata": {},
   "outputs": [
    {
     "name": "stdout",
     "output_type": "stream",
     "text": [
      "Data cleaned and saved successfully!\n"
     ]
    }
   ],
   "source": [
    "print(\"Data cleaned and saved successfully!\")"
   ]
  },
  {
   "cell_type": "code",
   "execution_count": null,
   "id": "48fdfc87-6a9a-4db0-b57b-36118827d618",
   "metadata": {},
   "outputs": [],
   "source": []
  }
 ],
 "metadata": {
  "kernelspec": {
   "display_name": "Python 3 (ipykernel)",
   "language": "python",
   "name": "python3"
  },
  "language_info": {
   "codemirror_mode": {
    "name": "ipython",
    "version": 3
   },
   "file_extension": ".py",
   "mimetype": "text/x-python",
   "name": "python",
   "nbconvert_exporter": "python",
   "pygments_lexer": "ipython3",
   "version": "3.13.5"
  }
 },
 "nbformat": 4,
 "nbformat_minor": 5
}
